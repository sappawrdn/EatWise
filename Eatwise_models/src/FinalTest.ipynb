{
  "nbformat": 4,
  "nbformat_minor": 0,
  "metadata": {
    "colab": {
      "provenance": [],
      "gpuType": "T4"
    },
    "kernelspec": {
      "name": "python3",
      "display_name": "Python 3"
    },
    "language_info": {
      "name": "python"
    },
    "accelerator": "GPU"
  },
  "cells": [
    {
      "cell_type": "code",
      "source": [
        "import pandas as pd\n",
        "from tensorflow.keras.models import load_model\n",
        "import tensorflow as tf\n",
        "import numpy as np\n",
        "import os"
      ],
      "metadata": {
        "id": "evDwEgRjiHKR"
      },
      "execution_count": null,
      "outputs": []
    },
    {
      "cell_type": "code",
      "source": [
        "from google.colab import drive\n",
        "drive.mount('/content/drive')"
      ],
      "metadata": {
        "colab": {
          "base_uri": "https://localhost:8080/"
        },
        "id": "9WIJdQ2-l3SS",
        "outputId": "47a96bd0-8596-419d-8183-336209c7c4af"
      },
      "execution_count": null,
      "outputs": [
        {
          "output_type": "stream",
          "name": "stdout",
          "text": [
            "Mounted at /content/drive\n"
          ]
        }
      ]
    },
    {
      "cell_type": "code",
      "source": [
        "import zipfile\n",
        "import os\n",
        "\n",
        "ziptrain = zipfile.ZipFile(\"/content/drive/MyDrive/makanantest.zip\")\n",
        "ziptrain.extractall()\n",
        "ziptrain.close()"
      ],
      "metadata": {
        "id": "Nq-YmL_SnTNN"
      },
      "execution_count": null,
      "outputs": []
    },
    {
      "cell_type": "code",
      "source": [
        "import pandas as pd\n",
        "\n",
        "csv_file_path = \"/content/nutritiondata.csv\"\n",
        "df = pd.read_csv(csv_file_path)\n",
        "\n",
        "print(df.head())"
      ],
      "metadata": {
        "colab": {
          "base_uri": "https://localhost:8080/"
        },
        "id": "RvPIFGxMhIGB",
        "outputId": "6a816e30-4959-4e43-e61c-018fcde2a15c"
      },
      "execution_count": null,
      "outputs": [
        {
          "output_type": "stream",
          "name": "stdout",
          "text": [
            "   Unnamed: 0.1  Unnamed: 0                        food  Caloric Value   Fat  \\\n",
            "0             0           0  chocolate pudding fat free            105   0.3   \n",
            "1             1           1             tapioca pudding            143   4.3   \n",
            "2             2           2    tapioca pudding fat free            105   0.4   \n",
            "3             3           3                rice pudding            122   2.4   \n",
            "4             4           4                corn pudding            328  12.6   \n",
            "\n",
            "   Saturated Fats  Monounsaturated Fats  Polyunsaturated Fats  Carbohydrates  \\\n",
            "0             0.0                  0.00                 0.000           23.6   \n",
            "1             1.1                  2.80                 0.088           23.9   \n",
            "2             0.1                  0.08                 0.067           23.9   \n",
            "3             1.4                  0.60                 0.100           20.8   \n",
            "4             6.3                  3.90                 1.400           42.4   \n",
            "\n",
            "   Sugars  ...  Calcium   Copper   Iron  Magnesium  Manganese  Phosphorus  \\\n",
            "0    17.8  ...   44.100    0.035  1.900       17.0      0.040        61.0   \n",
            "1    16.4  ...   78.100    0.026  0.100        6.6      0.096        66.0   \n",
            "2    15.9  ...   58.200    0.004  0.100        5.6      0.023        73.9   \n",
            "3    13.1  ...    0.063  107.400  0.014        0.1      9.000         0.1   \n",
            "4    16.5  ...    0.066   97.500  0.100        1.3     37.500         0.2   \n",
            "\n",
            "   Potassium  Selenium   Zinc  Nutrition Density  \n",
            "0      235.0     0.052  0.300             72.400  \n",
            "1      101.2     0.000  0.200            108.800  \n",
            "2       78.4     0.000  0.200             84.500  \n",
            "3       92.7   141.300  0.083             27.329  \n",
            "4      225.0   440.000  0.069             69.795  \n",
            "\n",
            "[5 rows x 37 columns]\n"
          ]
        }
      ]
    },
    {
      "cell_type": "code",
      "execution_count": null,
      "metadata": {
        "id": "0_9LRNSthNru",
        "colab": {
          "base_uri": "https://localhost:8080/"
        },
        "outputId": "ce54713d-8f0d-45a4-bea9-e08ec08fdaec"
      },
      "outputs": [
        {
          "output_type": "stream",
          "name": "stderr",
          "text": [
            "WARNING:absl:Compiled the loaded model, but the compiled metrics have yet to be built. `model.compile_metrics` will be empty until you train or evaluate the model.\n"
          ]
        }
      ],
      "source": [
        "from tensorflow.keras.models import load_model\n",
        "import tensorflow_datasets as tfds\n",
        "model_baru = load_model(\"/content/eatwise_model.h5\")"
      ]
    },
    {
      "cell_type": "code",
      "source": [
        "import tensorflow_datasets as tfds\n",
        "\n",
        "dataset_name = \"food101\"\n",
        "dataset_info = tfds.builder(dataset_name).info\n",
        "class_names = dataset_info.features['label'].names"
      ],
      "metadata": {
        "id": "fjIcuPs1n-_T"
      },
      "execution_count": null,
      "outputs": []
    },
    {
      "cell_type": "code",
      "source": [
        "import tensorflow_datasets as tfds\n",
        "import pandas as pd\n",
        "\n",
        "dataset_name = \"food101\"\n",
        "dataset_info = tfds.builder(dataset_name).info\n",
        "class_names = dataset_info.features['label'].names\n",
        "\n",
        "for idx, label in enumerate(class_names):\n",
        "    print(f\"{idx}: {label}\")\n",
        "\n",
        "df = pd.DataFrame({\n",
        "    \"Index\": range(len(class_names)),\n",
        "    \"Label\": class_names\n",
        "})\n",
        "\n",
        "output_csv_path = \"/content/food101_labels.csv\"\n",
        "df.to_csv(output_csv_path, index=False)\n",
        "\n",
        "print(f\"CSV dengan label tersimpan di: {output_csv_path}\")"
      ],
      "metadata": {
        "colab": {
          "base_uri": "https://localhost:8080/"
        },
        "id": "Nr7SoGLgkANe",
        "outputId": "b06f6592-030c-4bf6-f53e-781c03cf7595"
      },
      "execution_count": null,
      "outputs": [
        {
          "output_type": "stream",
          "name": "stdout",
          "text": [
            "0: apple_pie\n",
            "1: baby_back_ribs\n",
            "2: baklava\n",
            "3: beef_carpaccio\n",
            "4: beef_tartare\n",
            "5: beet_salad\n",
            "6: beignets\n",
            "7: bibimbap\n",
            "8: bread_pudding\n",
            "9: breakfast_burrito\n",
            "10: bruschetta\n",
            "11: caesar_salad\n",
            "12: cannoli\n",
            "13: caprese_salad\n",
            "14: carrot_cake\n",
            "15: ceviche\n",
            "16: cheesecake\n",
            "17: cheese_plate\n",
            "18: chicken_curry\n",
            "19: chicken_quesadilla\n",
            "20: chicken_wings\n",
            "21: chocolate_cake\n",
            "22: chocolate_mousse\n",
            "23: churros\n",
            "24: clam_chowder\n",
            "25: club_sandwich\n",
            "26: crab_cakes\n",
            "27: creme_brulee\n",
            "28: croque_madame\n",
            "29: cup_cakes\n",
            "30: deviled_eggs\n",
            "31: donuts\n",
            "32: dumplings\n",
            "33: edamame\n",
            "34: eggs_benedict\n",
            "35: escargots\n",
            "36: falafel\n",
            "37: filet_mignon\n",
            "38: fish_and_chips\n",
            "39: foie_gras\n",
            "40: french_fries\n",
            "41: french_onion_soup\n",
            "42: french_toast\n",
            "43: fried_calamari\n",
            "44: fried_rice\n",
            "45: frozen_yogurt\n",
            "46: garlic_bread\n",
            "47: gnocchi\n",
            "48: greek_salad\n",
            "49: grilled_cheese_sandwich\n",
            "50: grilled_salmon\n",
            "51: guacamole\n",
            "52: gyoza\n",
            "53: hamburger\n",
            "54: hot_and_sour_soup\n",
            "55: hot_dog\n",
            "56: huevos_rancheros\n",
            "57: hummus\n",
            "58: ice_cream\n",
            "59: lasagna\n",
            "60: lobster_bisque\n",
            "61: lobster_roll_sandwich\n",
            "62: macaroni_and_cheese\n",
            "63: macarons\n",
            "64: miso_soup\n",
            "65: mussels\n",
            "66: nachos\n",
            "67: omelette\n",
            "68: onion_rings\n",
            "69: oysters\n",
            "70: pad_thai\n",
            "71: paella\n",
            "72: pancakes\n",
            "73: panna_cotta\n",
            "74: peking_duck\n",
            "75: pho\n",
            "76: pizza\n",
            "77: pork_chop\n",
            "78: poutine\n",
            "79: prime_rib\n",
            "80: pulled_pork_sandwich\n",
            "81: ramen\n",
            "82: ravioli\n",
            "83: red_velvet_cake\n",
            "84: risotto\n",
            "85: samosa\n",
            "86: sashimi\n",
            "87: scallops\n",
            "88: seaweed_salad\n",
            "89: shrimp_and_grits\n",
            "90: spaghetti_bolognese\n",
            "91: spaghetti_carbonara\n",
            "92: spring_rolls\n",
            "93: steak\n",
            "94: strawberry_shortcake\n",
            "95: sushi\n",
            "96: tacos\n",
            "97: takoyaki\n",
            "98: tiramisu\n",
            "99: tuna_tartare\n",
            "100: waffles\n",
            "CSV dengan label tersimpan di: /content/food101_labels.csv\n"
          ]
        }
      ]
    },
    {
      "cell_type": "code",
      "source": [
        "import tensorflow as tf\n",
        "import numpy as np\n",
        "import os\n",
        "\n",
        "def preprocess_image_from_path(image_path):\n",
        "    img = tf.keras.utils.load_img(image_path)\n",
        "    img_array = tf.keras.utils.img_to_array(img)\n",
        "    img_array = tf.image.resize(img_array, (224, 224))\n",
        "    img_array = tf.keras.applications.efficientnet.preprocess_input(img_array)\n",
        "    return np.expand_dims(img_array, axis=0)"
      ],
      "metadata": {
        "id": "fJ92PKCLhhH8"
      },
      "execution_count": null,
      "outputs": []
    },
    {
      "cell_type": "code",
      "source": [
        "def get_prediction_with_threshold(predictions, class_names, threshold=80):\n",
        "    max_confidence_idx = np.argmax(predictions)\n",
        "    max_confidence_score = predictions[max_confidence_idx] * 100\n",
        "\n",
        "    if max_confidence_score >= threshold:\n",
        "        return {\n",
        "            \"label\": class_names[max_confidence_idx],\n",
        "            \"confidence\": max_confidence_score\n",
        "        }\n",
        "    else:\n",
        "        return {\n",
        "            \"label\": \"Unknown\",\n",
        "            \"confidence\": 0.0\n",
        "        }"
      ],
      "metadata": {
        "id": "D4zI2bddLh9o"
      },
      "execution_count": null,
      "outputs": []
    },
    {
      "cell_type": "code",
      "source": [
        "def get_nutrition(label, df):\n",
        "    row = df[df['food'] == label]\n",
        "    if not row.empty:\n",
        "        return {\n",
        "            \"calories\": row[\"Caloric Value\"].values[0],\n",
        "            \"protein\": row[\"Protein\"].values[0],\n",
        "            \"carbs\": row[\"Carbohydrates\"].values[0],\n",
        "            \"fats\": row[\"Fat\"].values[0],\n",
        "            \"water\": row[\"Water\"].values[0],\n",
        "            \"sugars\": row[\"Sugars\"].values[0],\n",
        "            \"cholesterol\": row[\"Cholesterol\"].values[0],\n",
        "            \"calcium\": row[\"Calcium\"].values[0],\n",
        "            \"zinc\": row[\"Zinc\"].values[0],\n",
        "            \"magnesium\": row[\"Magnesium\"].values[0],\n",
        "            \"sodium\": row[\"Sodium\"].values[0]\n",
        "        }\n",
        "    else:\n",
        "        return None"
      ],
      "metadata": {
        "id": "K_AvLuwfiVQu"
      },
      "execution_count": null,
      "outputs": []
    },
    {
      "cell_type": "code",
      "source": [
        "folder_path = \"/content/makanantest/\""
      ],
      "metadata": {
        "id": "r0SuVnjcThQp"
      },
      "execution_count": null,
      "outputs": []
    },
    {
      "cell_type": "code",
      "source": [
        "for file_name in os.listdir(folder_path):\n",
        "    if file_name.lower().endswith(('.jpg', '.jpeg', '.png')):\n",
        "        image_path = os.path.join(folder_path, file_name)\n",
        "        preprocessed_image = preprocess_image_from_path(image_path)\n",
        "\n",
        "        predictions = model_baru.predict(preprocessed_image)[0]\n",
        "\n",
        "        result = get_prediction_with_threshold(predictions, class_names, threshold=80)\n",
        "\n",
        "        if result[\"label\"] != \"Unknown\":\n",
        "            nutrition = get_nutrition(result[\"label\"], df)\n",
        "            if nutrition:\n",
        "                print(f\"Gambar: {file_name} => Label Prediksi: {result['label']} (Confidence: {result['confidence']:.2f}%)\")\n",
        "                print(\"Informasi Nutrisi:\")\n",
        "                for key, value in nutrition.items():\n",
        "                    print(f\"  {key.capitalize()}: {value}\")\n",
        "            else:\n",
        "                print(f\"Gambar: {file_name} => Label Prediksi: {result['label']} (Confidence: {result['confidence']:.2f}%)\")\n",
        "                print(\"Informasi nutrisi tidak ditemukan di CSV.\")\n",
        "        else:\n",
        "            print(f\"Gambar: {file_name} => Label Prediksi: Unknown\")"
      ],
      "metadata": {
        "colab": {
          "base_uri": "https://localhost:8080/"
        },
        "id": "yer1vL6zlX0M",
        "outputId": "a704452a-dcb4-42ad-d9f0-4cc2c701ec61"
      },
      "execution_count": null,
      "outputs": [
        {
          "output_type": "stream",
          "name": "stdout",
          "text": [
            "\u001b[1m1/1\u001b[0m \u001b[32m━━━━━━━━━━━━━━━━━━━━\u001b[0m\u001b[37m\u001b[0m \u001b[1m0s\u001b[0m 26ms/step\n",
            "Gambar: macaron.jpeg => Label Prediksi: macarons (Confidence: 99.85%)\n",
            "Informasi Nutrisi:\n",
            "  Calories: 362\n",
            "  Protein: 4.8\n",
            "  Carbs: 49.7\n",
            "  Fats: 16.4\n",
            "  Water: 55.0\n",
            "  Sugars: 0.0\n",
            "  Cholesterol: 67.3\n",
            "  Calcium: 15.2\n",
            "  Zinc: 0.4\n",
            "  Magnesium: 7.6\n",
            "  Sodium: 0.3\n",
            "\u001b[1m1/1\u001b[0m \u001b[32m━━━━━━━━━━━━━━━━━━━━\u001b[0m\u001b[37m\u001b[0m \u001b[1m0s\u001b[0m 23ms/step\n",
            "Gambar: pizza.jpg => Label Prediksi: pizza (Confidence: 99.81%)\n",
            "Informasi Nutrisi:\n",
            "  Calories: 136\n",
            "  Protein: 5.5\n",
            "  Carbs: 21.8\n",
            "  Fats: 2.9\n",
            "  Water: 218.5\n",
            "  Sugars: 9.5\n",
            "  Cholesterol: 0.0\n",
            "  Calcium: 0.0\n",
            "  Zinc: 0.0\n",
            "  Magnesium: 2.3\n",
            "  Sodium: 0.9\n",
            "\u001b[1m1/1\u001b[0m \u001b[32m━━━━━━━━━━━━━━━━━━━━\u001b[0m\u001b[37m\u001b[0m \u001b[1m0s\u001b[0m 25ms/step\n",
            "Gambar: Spaghetti-Bolognese-daging.jpeg => Label Prediksi: spaghetti_bolognese (Confidence: 99.95%)\n",
            "Informasi Nutrisi:\n",
            "  Calories: 255\n",
            "  Protein: 14.3\n",
            "  Carbs: 43.1\n",
            "  Fats: 2.9\n",
            "  Water: 220.2\n",
            "  Sugars: 7.4\n",
            "  Cholesterol: 17.0\n",
            "  Calcium: 50.9\n",
            "  Zinc: 1.4\n",
            "  Magnesium: 42.5\n",
            "  Sodium: 0.7\n",
            "\u001b[1m1/1\u001b[0m \u001b[32m━━━━━━━━━━━━━━━━━━━━\u001b[0m\u001b[37m\u001b[0m \u001b[1m0s\u001b[0m 24ms/step\n",
            "Gambar: waffle.jpg => Label Prediksi: waffles (Confidence: 100.00%)\n",
            "Informasi Nutrisi:\n",
            "  Calories: 218\n",
            "  Protein: 5.9\n",
            "  Carbs: 24.7\n",
            "  Fats: 10.6\n",
            "  Water: 31.5\n",
            "  Sugars: 0.0\n",
            "  Cholesterol: 51.8\n",
            "  Calcium: 191.3\n",
            "  Zinc: 0.5\n",
            "  Magnesium: 14.3\n",
            "  Sodium: 0.4\n",
            "\u001b[1m1/1\u001b[0m \u001b[32m━━━━━━━━━━━━━━━━━━━━\u001b[0m\u001b[37m\u001b[0m \u001b[1m0s\u001b[0m 30ms/step\n",
            "Gambar: soup.jpg => Label Prediksi: Unknown\n",
            "\u001b[1m1/1\u001b[0m \u001b[32m━━━━━━━━━━━━━━━━━━━━\u001b[0m\u001b[37m\u001b[0m \u001b[1m0s\u001b[0m 25ms/step\n",
            "Gambar: takoyaki.jpg => Label Prediksi: takoyaki (Confidence: 91.53%)\n",
            "Informasi Nutrisi:\n",
            "  Calories: 139\n",
            "  Protein: 25.3\n",
            "  Carbs: 3.7\n",
            "  Fats: 1.8\n",
            "  Water: 51.4\n",
            "  Sugars: 0.0\n",
            "  Cholesterol: 81.6\n",
            "  Calcium: 90.1\n",
            "  Zinc: 2.9\n",
            "  Magnesium: 51.0\n",
            "  Sodium: 0.4\n",
            "\u001b[1m1/1\u001b[0m \u001b[32m━━━━━━━━━━━━━━━━━━━━\u001b[0m\u001b[37m\u001b[0m \u001b[1m0s\u001b[0m 25ms/step\n",
            "Gambar: edamame.jpg => Label Prediksi: edamame (Confidence: 100.00%)\n",
            "Informasi Nutrisi:\n",
            "  Calories: 189\n",
            "  Protein: 18.5\n",
            "  Carbs: 13.8\n",
            "  Fats: 8.1\n",
            "  Water: 112.8\n",
            "  Sugars: 3.4\n",
            "  Cholesterol: 0.0\n",
            "  Calcium: 0.041\n",
            "  Zinc: 0.0\n",
            "  Magnesium: 3.5\n",
            "  Sodium: 0.034\n",
            "\u001b[1m1/1\u001b[0m \u001b[32m━━━━━━━━━━━━━━━━━━━━\u001b[0m\u001b[37m\u001b[0m \u001b[1m0s\u001b[0m 23ms/step\n",
            "Gambar: frenchfries.jpeg => Label Prediksi: french_fries (Confidence: 90.92%)\n",
            "Informasi Nutrisi:\n",
            "  Calories: 13\n",
            "  Protein: 0.2\n",
            "  Carbs: 2.2\n",
            "  Fats: 0.4\n",
            "  Water: 5.9\n",
            "  Sugars: 0.088\n",
            "  Cholesterol: 0.0\n",
            "  Calcium: 0.8\n",
            "  Zinc: 0.018\n",
            "  Magnesium: 1.9\n",
            "  Sodium: 0.056\n",
            "\u001b[1m1/1\u001b[0m \u001b[32m━━━━━━━━━━━━━━━━━━━━\u001b[0m\u001b[37m\u001b[0m \u001b[1m0s\u001b[0m 24ms/step\n",
            "Gambar: oyster.jpg => Label Prediksi: oysters (Confidence: 99.98%)\n",
            "Informasi nutrisi tidak ditemukan di CSV.\n",
            "\u001b[1m1/1\u001b[0m \u001b[32m━━━━━━━━━━━━━━━━━━━━\u001b[0m\u001b[37m\u001b[0m \u001b[1m0s\u001b[0m 29ms/step\n",
            "Gambar: churros.jpg => Label Prediksi: churros (Confidence: 100.00%)\n",
            "Informasi Nutrisi:\n",
            "  Calories: 231\n",
            "  Protein: 4.7\n",
            "  Carbs: 26.1\n",
            "  Fats: 12.0\n",
            "  Water: 13.2\n",
            "  Sugars: 6.4\n",
            "  Cholesterol: 38.2\n",
            "  Calcium: 21.1\n",
            "  Zinc: 0.4\n",
            "  Magnesium: 9.1\n",
            "  Sodium: 0.2\n"
          ]
        }
      ]
    }
  ]
}